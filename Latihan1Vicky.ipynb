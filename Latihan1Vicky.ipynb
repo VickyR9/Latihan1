{
 "cells": [
  {
   "cell_type": "code",
   "execution_count": 9,
   "id": "734ba7c8",
   "metadata": {},
   "outputs": [
    {
     "name": "stdout",
     "output_type": "stream",
     "text": [
      "hello world\n",
      "hello world\n"
     ]
    }
   ],
   "source": [
    "print(\"hello world\")\n",
    "print(\"hello world\")"
   ]
  },
  {
   "cell_type": "code",
   "execution_count": 11,
   "id": "452ee181",
   "metadata": {},
   "outputs": [
    {
     "name": "stdout",
     "output_type": "stream",
     "text": [
      "Vicky Ramdhani\n"
     ]
    }
   ],
   "source": [
    "print(\"Vicky Ramdhani\")"
   ]
  },
  {
   "cell_type": "code",
   "execution_count": 13,
   "id": "c7818c4f",
   "metadata": {},
   "outputs": [
    {
     "name": "stdout",
     "output_type": "stream",
     "text": [
      "7\n"
     ]
    }
   ],
   "source": [
    "print(2+5)"
   ]
  },
  {
   "cell_type": "code",
   "execution_count": 14,
   "id": "98e8c0ad",
   "metadata": {},
   "outputs": [
    {
     "name": "stdout",
     "output_type": "stream",
     "text": [
      "690\n"
     ]
    }
   ],
   "source": [
    "print(234+456)"
   ]
  },
  {
   "cell_type": "code",
   "execution_count": 15,
   "id": "9f6ca181",
   "metadata": {},
   "outputs": [
    {
     "name": "stdout",
     "output_type": "stream",
     "text": [
      "hasil dari panjang * lebar adalah 50\n"
     ]
    }
   ],
   "source": [
    "panjang = 5\n",
    "lebar = 10\n",
    "print(\"hasil dari panjang * lebar adalah\", panjang*lebar)"
   ]
  }
 ],
 "metadata": {
  "kernelspec": {
   "display_name": "Python 3 (ipykernel)",
   "language": "python",
   "name": "python3"
  },
  "language_info": {
   "codemirror_mode": {
    "name": "ipython",
    "version": 3
   },
   "file_extension": ".py",
   "mimetype": "text/x-python",
   "name": "python",
   "nbconvert_exporter": "python",
   "pygments_lexer": "ipython3",
   "version": "3.9.12"
  }
 },
 "nbformat": 4,
 "nbformat_minor": 5
}
