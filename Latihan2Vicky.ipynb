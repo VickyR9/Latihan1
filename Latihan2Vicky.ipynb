{
 "cells": [
  {
   "cell_type": "code",
   "execution_count": 28,
   "id": "b009beb2",
   "metadata": {},
   "outputs": [
    {
     "name": "stdout",
     "output_type": "stream",
     "text": [
      "nama: Vicky Ramdhani\n",
      "usia: 19\n",
      "sudah_menikah: False\n",
      "hobi: menonton film dan jalan jalan\n",
      "quote: hidup indah bila mencari berkah\n"
     ]
    }
   ],
   "source": [
    "#Biodata\n",
    "nama = \"Vicky Ramdhani\"\n",
    "usia = 19\n",
    "sudah_menikah = False\n",
    "hobi = \"menonton film dan jalan jalan\"\n",
    "quote = \"hidup indah bila mencari berkah\"\n",
    "print(\"nama:\",nama)\n",
    "print(\"usia:\",usia)\n",
    "print(\"sudah_menikah:\",sudah_menikah)\n",
    "print(\"hobi:\",hobi)\n",
    "print(\"quote:\",quote)"
   ]
  },
  {
   "cell_type": "code",
   "execution_count": 17,
   "id": "71b8459a",
   "metadata": {},
   "outputs": [
    {
     "name": "stdout",
     "output_type": "stream",
     "text": [
      "a: 1\n",
      "b: 2\n",
      "c: mantap\n",
      "d: 10\n",
      "e: 10\n",
      "f: 10\n"
     ]
    }
   ],
   "source": [
    "a,b,c = 1,2,\"mantap\"\n",
    "print(\"a:\",a)\n",
    "print(\"b:\",b)\n",
    "print(\"c:\",c)\n",
    "d = e = f = 10\n",
    "print(\"d:\",d)\n",
    "print(\"e:\",e)\n",
    "print(\"f:\",f)"
   ]
  },
  {
   "cell_type": "code",
   "execution_count": 20,
   "id": "cf854e1a",
   "metadata": {},
   "outputs": [
    {
     "name": "stdout",
     "output_type": "stream",
     "text": [
      "<class 'str'>\n",
      "<class 'int'>\n"
     ]
    }
   ],
   "source": [
    "kota = \"sukabumi\"\n",
    "nilai = 50\n",
    "print(type(kota))\n",
    "print(type(nilai))"
   ]
  },
  {
   "cell_type": "code",
   "execution_count": 27,
   "id": "fe71b383",
   "metadata": {},
   "outputs": [
    {
     "name": "stdout",
     "output_type": "stream",
     "text": [
      "5 * 10.5 = 52.5\n",
      "Tipe dari variabel panjang: <class 'int'>\n",
      "Tipe dari variebel lebar: <class 'float'>\n",
      "Tipe dari variabel luas: <class 'float'>\n"
     ]
    }
   ],
   "source": [
    "#Cara Menghitung Luas\n",
    "panjang = 5\n",
    "lebar = 10.5\n",
    "luas = panjang*lebar\n",
    "print(panjang, \"*\" ,lebar, \"=\" ,luas)\n",
    "print(\"Tipe dari variabel panjang:\", type(panjang))\n",
    "print(\"Tipe dari variebel lebar:\", type(lebar))\n",
    "print(\"Tipe dari variabel luas:\", type(luas))"
   ]
  },
  {
   "cell_type": "code",
   "execution_count": 32,
   "id": "b477ea1b",
   "metadata": {},
   "outputs": [
    {
     "name": "stdout",
     "output_type": "stream",
     "text": [
      "luas segitiga= 25.0 cm2\n"
     ]
    }
   ],
   "source": [
    "#Cara Menghitung Luas Segitiga\n",
    "alas = 10\n",
    "tinggi = 5\n",
    "luas = 0.5 * alas * tinggi \n",
    "print(\"luas segitiga=\", luas, \"cm2\")"
   ]
  },
  {
   "cell_type": "code",
   "execution_count": 40,
   "id": "822cca37",
   "metadata": {},
   "outputs": [
    {
     "name": "stdout",
     "output_type": "stream",
     "text": [
      "umur = 20\n"
     ]
    }
   ],
   "source": [
    "#Menghitung Umur\n",
    "tahunlahir = 2002\n",
    "tahunsekarang = 2022\n",
    "umur = tahunsekarang-tahunlahir\n",
    "print(\"umur =\",umur)"
   ]
  },
  {
   "cell_type": "code",
   "execution_count": 49,
   "id": "d8e035f5",
   "metadata": {},
   "outputs": [
    {
     "name": "stdout",
     "output_type": "stream",
     "text": [
      "Vicky Ramdhani (19) ,dari Cireunghas , kata mutiara: You Only Live Once\n"
     ]
    }
   ],
   "source": [
    "#Bidata\n",
    "nama_depan = \"Vicky\"\n",
    "nama_belakang = \"Ramdhani\"\n",
    "nama_lengkap = nama_depan+' '+nama_belakang\n",
    "usia = \"19\"\n",
    "alamat = \"Cireunghas\"\n",
    "kata_mutiara = \"You Only Live Once\"\n",
    "print(nama_lengkap,'('+ usia + ')', ',' 'dari', alamat, ', kata mutiara:', kata_mutiara)"
   ]
  },
  {
   "cell_type": "code",
   "execution_count": 54,
   "id": "4780ec75",
   "metadata": {},
   "outputs": [
    {
     "name": "stdout",
     "output_type": "stream",
     "text": [
      "saya saya saya \n"
     ]
    }
   ],
   "source": [
    "print(\"saya \"*3)"
   ]
  },
  {
   "cell_type": "code",
   "execution_count": 57,
   "id": "0bd6eb83",
   "metadata": {},
   "outputs": [
    {
     "ename": "TypeError",
     "evalue": "can't multiply sequence by non-int of type 'str'",
     "output_type": "error",
     "traceback": [
      "\u001b[1;31m---------------------------------------------------------------------------\u001b[0m",
      "\u001b[1;31mTypeError\u001b[0m                                 Traceback (most recent call last)",
      "Input \u001b[1;32mIn [57]\u001b[0m, in \u001b[0;36m<cell line: 1>\u001b[1;34m()\u001b[0m\n\u001b[1;32m----> 1\u001b[0m \u001b[38;5;28mprint\u001b[39m(\u001b[38;5;124;43m\"\u001b[39;49m\u001b[38;5;124;43msaya \u001b[39;49m\u001b[38;5;124;43m\"\u001b[39;49m\u001b[43m \u001b[49m\u001b[38;5;241;43m*\u001b[39;49m\u001b[43m \u001b[49m\u001b[38;5;124;43m\"\u001b[39;49m\u001b[38;5;124;43msaya \u001b[39;49m\u001b[38;5;124;43m\"\u001b[39;49m)\n",
      "\u001b[1;31mTypeError\u001b[0m: can't multiply sequence by non-int of type 'str'"
     ]
    }
   ],
   "source": [
    "print(\"saya \" * \"saya \")"
   ]
  },
  {
   "cell_type": "code",
   "execution_count": 65,
   "id": "afb01d5c",
   "metadata": {},
   "outputs": [
    {
     "name": "stdout",
     "output_type": "stream",
     "text": [
      "\n",
      " saya \n",
      " saya \n",
      " saya \n"
     ]
    }
   ],
   "source": [
    "#Cara Nulis Menurun Kebawah\n",
    "print(\"\\n saya \"*3)"
   ]
  },
  {
   "cell_type": "code",
   "execution_count": 68,
   "id": "2ba97e59",
   "metadata": {},
   "outputs": [
    {
     "name": "stdout",
     "output_type": "stream",
     "text": [
      "\r",
      " saya\n"
     ]
    }
   ],
   "source": [
    "print(\"\\r saya\")"
   ]
  },
  {
   "cell_type": "code",
   "execution_count": 75,
   "id": "46180739",
   "metadata": {},
   "outputs": [
    {
     "name": "stdout",
     "output_type": "stream",
     "text": [
      "\n",
      " Nama Saya: \n",
      " Vicky Ramdhani \n",
      " Jurusan: \n",
      " Teknik Informatika\n"
     ]
    }
   ],
   "source": [
    "print(\"\\n Nama Saya:\", \"\\n Vicky Ramdhani\", \"\\n Jurusan:\", (\"\\n Teknik Informatika\"))"
   ]
  },
  {
   "cell_type": "code",
   "execution_count": 83,
   "id": "6ebe31b4",
   "metadata": {},
   "outputs": [
    {
     "name": "stdout",
     "output_type": "stream",
     "text": [
      "Nama Saya :\n",
      "Vicky Ramdhani\n",
      "Jurusan :\n",
      "Teknik Informatika \n"
     ]
    }
   ],
   "source": [
    "print('''Nama Saya :\n",
    "Vicky Ramdhani\n",
    "Jurusan :\n",
    "Teknik Informatika ''')"
   ]
  },
  {
   "cell_type": "code",
   "execution_count": 91,
   "id": "06a2dad4",
   "metadata": {},
   "outputs": [
    {
     "name": "stdout",
     "output_type": "stream",
     "text": [
      "apakah saya orang indonesia = True\n",
      "Tipe dari saya_orang_indoensia <class 'bool'>\n",
      "apakah saya adalah robot = False\n",
      "Tipe dari saya_adalah_robot <class 'bool'>\n"
     ]
    }
   ],
   "source": [
    "saya_orang_indonesia = True\n",
    "saya_adalah_robot = False\n",
    "print('apakah saya orang indonesia =', saya_orang_indonesia)\n",
    "print('Tipe dari saya_orang_indoensia', type(saya_orang_indonesia))\n",
    "print('apakah saya adalah robot =', saya_adalah_robot)\n",
    "print('Tipe dari saya_adalah_robot', type(saya_adalah_robot))"
   ]
  },
  {
   "cell_type": "code",
   "execution_count": 107,
   "id": "ddd15ce5",
   "metadata": {},
   "outputs": [
    {
     "ename": "NameError",
     "evalue": "name 'false' is not defined",
     "output_type": "error",
     "traceback": [
      "\u001b[1;31m---------------------------------------------------------------------------\u001b[0m",
      "\u001b[1;31mNameError\u001b[0m                                 Traceback (most recent call last)",
      "Input \u001b[1;32mIn [107]\u001b[0m, in \u001b[0;36m<cell line: 1>\u001b[1;34m()\u001b[0m\n\u001b[1;32m----> 1\u001b[0m foo \u001b[38;5;241m=\u001b[39m \u001b[43mfalse\u001b[49m\n\u001b[0;32m      2\u001b[0m \u001b[38;5;28mprint\u001b[39m(foo)\n",
      "\u001b[1;31mNameError\u001b[0m: name 'false' is not defined"
     ]
    }
   ],
   "source": [
    "foo = false\n",
    "print(foo)"
   ]
  },
  {
   "cell_type": "code",
   "execution_count": 111,
   "id": "3f322c80",
   "metadata": {},
   "outputs": [
    {
     "name": "stdout",
     "output_type": "stream",
     "text": [
      "False\n",
      "False\n",
      "False\n"
     ]
    }
   ],
   "source": [
    "foo = 10>12\n",
    "print(foo)\n",
    "foo = 10<10\n",
    "print(foo)\n",
    "foo = A = a\n",
    "print(foo)"
   ]
  },
  {
   "cell_type": "code",
   "execution_count": null,
   "id": "5dea18d4",
   "metadata": {},
   "outputs": [],
   "source": []
  }
 ],
 "metadata": {
  "kernelspec": {
   "display_name": "Python 3 (ipykernel)",
   "language": "python",
   "name": "python3"
  },
  "language_info": {
   "codemirror_mode": {
    "name": "ipython",
    "version": 3
   },
   "file_extension": ".py",
   "mimetype": "text/x-python",
   "name": "python",
   "nbconvert_exporter": "python",
   "pygments_lexer": "ipython3",
   "version": "3.9.12"
  }
 },
 "nbformat": 4,
 "nbformat_minor": 5
}
