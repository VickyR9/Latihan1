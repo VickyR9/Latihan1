{
 "cells": [
  {
   "cell_type": "code",
   "execution_count": 5,
   "id": "1ec689dd",
   "metadata": {},
   "outputs": [
    {
     "name": "stdout",
     "output_type": "stream",
     "text": [
      "4 + 6 = 10\n",
      "10 - 3 = 7\n",
      "6 * 10 = 60\n",
      "10 / 3 = 3.3333333333333335\n",
      "10 % 3 = 1\n",
      "10 ** 3 = 1000\n",
      "10 // 3 = 3\n"
     ]
    }
   ],
   "source": [
    "a,b,c,d = 10,3,4,6\n",
    "print(c,'+',d,'=',c+d)\n",
    "print(a,'-',b,'=',a-b)\n",
    "print(d,'*',a,'=',d*a)\n",
    "print(a,'/',b,'=',a/b)\n",
    "print(a,'%',b,'=',a%b)\n",
    "print(a,'**',b,'=',a**b)\n",
    "print(a,'//',b,'=',a//b)"
   ]
  },
  {
   "cell_type": "code",
   "execution_count": 9,
   "id": "d082b912",
   "metadata": {},
   "outputs": [
    {
     "name": "stdout",
     "output_type": "stream",
     "text": [
      "6.4\n"
     ]
    }
   ],
   "source": [
    "print(2*2**2/10+4+2**3/5)"
   ]
  },
  {
   "cell_type": "code",
   "execution_count": 16,
   "id": "7fb0e9b8",
   "metadata": {},
   "outputs": [
    {
     "name": "stdout",
     "output_type": "stream",
     "text": [
      "a=5 > 5\n",
      "a+=2 > 7\n",
      "a-=4 > 3\n",
      "a/=5 > 0.6\n",
      "a%=2 > 0.6\n"
     ]
    }
   ],
   "source": [
    "a=5\n",
    "print('a=5 >',a)\n",
    "a+=2\n",
    "print('a+=2 >',a)\n",
    "a-=4\n",
    "print('a-=4 >',a)\n",
    "a/=5\n",
    "print('a/=5 >',a)\n",
    "a%=2\n",
    "print('a%=2 >',a)"
   ]
  },
  {
   "cell_type": "code",
   "execution_count": 22,
   "id": "de8ea5f6",
   "metadata": {},
   "outputs": [
    {
     "name": "stdout",
     "output_type": "stream",
     "text": [
      "False\n",
      "True\n",
      "False\n",
      "True\n",
      "False\n",
      "True\n"
     ]
    }
   ],
   "source": [
    "x,y=5,10\n",
    "print(x>y)\n",
    "print(x<y)\n",
    "print(x==y)\n",
    "print(x!=y)\n",
    "print(x>=y)\n",
    "print(x<=y)"
   ]
  },
  {
   "cell_type": "code",
   "execution_count": 37,
   "id": "74840db8",
   "metadata": {},
   "outputs": [
    {
     "name": "stdout",
     "output_type": "stream",
     "text": [
      "nilai_1 and nilai_2 =False\n",
      " = False\n",
      " = True\n",
      "nilai_1 dan nilai_3 =True\n"
     ]
    }
   ],
   "source": [
    "x<5 and x<10\n",
    "nilai_1=True\n",
    "nilai_2=False\n",
    "nilai_3=True\n",
    "print('nilai_1 and nilai_2 ='+str(nilai_1 and nilai_2))\n",
    "print(' = '+str(nilai_1 and nilai_2))\n",
    "print(' = '+str(nilai_1 and nilai_3))\n",
    "print('nilai_1 dan nilai_3 ='+str(nilai_1 and nilai_3))"
   ]
  },
  {
   "cell_type": "code",
   "execution_count": 65,
   "id": "81424e3a",
   "metadata": {},
   "outputs": [
    {
     "name": "stdout",
     "output_type": "stream",
     "text": [
      "Baju murah dan diskon jadi laku = True\n",
      "Baju tidak murah dan tidak diskon jadi tidak laku = False\n"
     ]
    }
   ],
   "source": [
    "#Latihan\n",
    "Murah=True\n",
    "Diskon=True\n",
    "print('Baju murah dan diskon jadi laku = '+str(Murah and Diskon))\n",
    "print('Baju tidak murah dan tidak diskon jadi tidak laku = '+str (not Murah))"
   ]
  },
  {
   "cell_type": "code",
   "execution_count": null,
   "id": "5e690a8d",
   "metadata": {},
   "outputs": [],
   "source": []
  }
 ],
 "metadata": {
  "kernelspec": {
   "display_name": "Python 3 (ipykernel)",
   "language": "python",
   "name": "python3"
  },
  "language_info": {
   "codemirror_mode": {
    "name": "ipython",
    "version": 3
   },
   "file_extension": ".py",
   "mimetype": "text/x-python",
   "name": "python",
   "nbconvert_exporter": "python",
   "pygments_lexer": "ipython3",
   "version": "3.9.12"
  }
 },
 "nbformat": 4,
 "nbformat_minor": 5
}
