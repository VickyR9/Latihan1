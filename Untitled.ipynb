{
 "cells": [
  {
   "cell_type": "code",
   "execution_count": 1,
   "id": "43dc38bc",
   "metadata": {},
   "outputs": [
    {
     "name": "stdout",
     "output_type": "stream",
     "text": [
      "Mercury\n",
      "Bekasi\n",
      "Earth\n",
      "Sukabumi\n"
     ]
    }
   ],
   "source": [
    "planets = ['Mercury','Bekasi','Earth','Sukabumi']\n",
    "\n",
    "for planet in planets:\n",
    "    print(planet)"
   ]
  },
  {
   "cell_type": "code",
   "execution_count": 2,
   "id": "8df45c6a",
   "metadata": {},
   "outputs": [
    {
     "name": "stdout",
     "output_type": "stream",
     "text": [
      "Fadhlan\n",
      "Fajril\n",
      "Vicky\n",
      "Aripin\n",
      "Dzikri\n"
     ]
    }
   ],
   "source": [
    "students = ['Fadhlan','Fajril','Vicky','Aripin','Dzikri']\n",
    "\n",
    "for student in students:\n",
    "    print(student)"
   ]
  },
  {
   "cell_type": "code",
   "execution_count": 3,
   "id": "50ce83fe",
   "metadata": {},
   "outputs": [
    {
     "name": "stdout",
     "output_type": "stream",
     "text": [
      "0 Fadhlan\n",
      "1 Fajril\n",
      "2 Vicky\n",
      "3 Aripin\n",
      "4 Dzikri\n"
     ]
    }
   ],
   "source": [
    "students = ['Fadhlan','Fajril','Vicky','Aripin','Dzikri']\n",
    "for index, student in enumerate(students):\n",
    "    print(index,student)"
   ]
  },
  {
   "cell_type": "code",
   "execution_count": 4,
   "id": "29c6a03e",
   "metadata": {},
   "outputs": [
    {
     "name": "stdout",
     "output_type": "stream",
     "text": [
      "1 Fajril\n",
      "3 Aripin\n",
      "5 Abdul\n",
      "7 Dah\n"
     ]
    }
   ],
   "source": [
    "#Ganjil\n",
    "students = ['Fadhlan','Fajril','Vicky','Aripin','Dzikri','Abdul','Baiassy','Dah']\n",
    "for index, student in enumerate(students):\n",
    "    if index %2:\n",
    "        print(index,student)\n",
    "    else:\n",
    "        ()"
   ]
  },
  {
   "cell_type": "code",
   "execution_count": 5,
   "id": "c7858e2c",
   "metadata": {},
   "outputs": [
    {
     "name": "stdout",
     "output_type": "stream",
     "text": [
      "0 Fadhlan\n",
      "2 Vicky\n",
      "4 Dzikri\n",
      "6 Baiassy\n"
     ]
    }
   ],
   "source": [
    "#Genap\n",
    "students = ['Fadhlan','Fajril','Vicky','Aripin','Dzikri','Abdul','Baiassy','Dah']\n",
    "for index, student in enumerate(students):\n",
    "    if index %2 == 0:\n",
    "        print(index,student)\n",
    "    else:\n",
    "        ()"
   ]
  },
  {
   "cell_type": "code",
   "execution_count": 12,
   "id": "478a46dc",
   "metadata": {},
   "outputs": [
    {
     "name": "stdout",
     "output_type": "stream",
     "text": [
      "10\n",
      "9\n",
      "8\n",
      "7\n",
      "6\n",
      "5\n",
      "4\n",
      "3\n",
      "2\n",
      "1\n",
      "0\n"
     ]
    }
   ],
   "source": [
    "i=10\n",
    "while i>=0:\n",
    "    print(i)\n",
    "    i-=1"
   ]
  },
  {
   "cell_type": "code",
   "execution_count": null,
   "id": "3db83565",
   "metadata": {},
   "outputs": [],
   "source": [
    "while True:\n",
    "    a=input('Input String : ')\n",
    "    if a == 'quit':\n",
    "        break\n",
    "    print('lenght of a is {}'.format(len(a)))"
   ]
  },
  {
   "cell_type": "code",
   "execution_count": 24,
   "id": "444eb2dd",
   "metadata": {},
   "outputs": [
    {
     "name": "stdout",
     "output_type": "stream",
     "text": [
      "10\n",
      "9\n",
      "8\n",
      "7\n",
      "6\n",
      "5\n",
      "4\n"
     ]
    }
   ],
   "source": [
    "i=10\n",
    "while i>=0:\n",
    "    if i == 3:\n",
    "        break\n",
    "    print(i)\n",
    "    i-=1"
   ]
  },
  {
   "cell_type": "code",
   "execution_count": 63,
   "id": "5eb8f86d",
   "metadata": {},
   "outputs": [
    {
     "name": "stdout",
     "output_type": "stream",
     "text": [
      "Age : 20\n",
      "Age : 10\n",
      "Age : 2\n",
      "Age : 12\n",
      "Age : 15\n",
      "Age : quit\n"
     ]
    },
    {
     "ename": "ValueError",
     "evalue": "invalid literal for int() with base 10: 'quit'",
     "output_type": "error",
     "traceback": [
      "\u001b[1;31m---------------------------------------------------------------------------\u001b[0m",
      "\u001b[1;31mValueError\u001b[0m                                Traceback (most recent call last)",
      "Input \u001b[1;32mIn [63]\u001b[0m, in \u001b[0;36m<cell line: 4>\u001b[1;34m()\u001b[0m\n\u001b[0;32m      2\u001b[0m count \u001b[38;5;241m=\u001b[39m \u001b[38;5;241m5\u001b[39m \n\u001b[0;32m      4\u001b[0m \u001b[38;5;28;01mwhile\u001b[39;00m count \u001b[38;5;241m>\u001b[39m\u001b[38;5;241m0\u001b[39m:\n\u001b[1;32m----> 5\u001b[0m     age \u001b[38;5;241m=\u001b[39m \u001b[38;5;28;43mint\u001b[39;49m\u001b[43m(\u001b[49m\u001b[38;5;28;43minput\u001b[39;49m\u001b[43m(\u001b[49m\u001b[38;5;124;43m'\u001b[39;49m\u001b[38;5;124;43mAge : \u001b[39;49m\u001b[38;5;124;43m'\u001b[39;49m\u001b[43m)\u001b[49m\u001b[43m)\u001b[49m\n\u001b[0;32m      6\u001b[0m     \u001b[38;5;28;01mif\u001b[39;00m age \u001b[38;5;241m<\u001b[39m\u001b[38;5;241m=\u001b[39m \u001b[38;5;241m3\u001b[39m:\n\u001b[0;32m      7\u001b[0m         price \u001b[38;5;241m=\u001b[39m \u001b[38;5;241m0\u001b[39m\n",
      "\u001b[1;31mValueError\u001b[0m: invalid literal for int() with base 10: 'quit'"
     ]
    }
   ],
   "source": [
    "price = 30.000\n",
    "count = 5 \n",
    "\n",
    "while count >0:\n",
    "    age = int(input('Age : '))\n",
    "    if age <= 3:\n",
    "        price = 0\n",
    "    if age >= 3:\n",
    "        price = 30.000\n",
    "        continue\n",
    "print(total)"
   ]
  },
  {
   "cell_type": "code",
   "execution_count": null,
   "id": "e29a0619",
   "metadata": {},
   "outputs": [],
   "source": []
  },
  {
   "cell_type": "code",
   "execution_count": null,
   "id": "0635475c",
   "metadata": {},
   "outputs": [],
   "source": []
  }
 ],
 "metadata": {
  "kernelspec": {
   "display_name": "Python 3 (ipykernel)",
   "language": "python",
   "name": "python3"
  },
  "language_info": {
   "codemirror_mode": {
    "name": "ipython",
    "version": 3
   },
   "file_extension": ".py",
   "mimetype": "text/x-python",
   "name": "python",
   "nbconvert_exporter": "python",
   "pygments_lexer": "ipython3",
   "version": "3.9.12"
  }
 },
 "nbformat": 4,
 "nbformat_minor": 5
}
