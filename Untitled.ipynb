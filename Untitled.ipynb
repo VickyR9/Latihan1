{
 "cells": [
  {
   "cell_type": "code",
   "execution_count": 2,
   "id": "6a51936f",
   "metadata": {},
   "outputs": [
    {
     "name": "stdout",
     "output_type": "stream",
     "text": [
      "=========================\n",
      "1. Jumlah\t [+]\n",
      "2. Kurang\t [-]\n",
      "3. Kali\t   [*]\n",
      "4. Bagi\t   [/]\n",
      "=========================\n"
     ]
    }
   ],
   "source": [
    "print('='*25)\n",
    "print('1. Jumlah\\t [+]')\n",
    "print('2. Kurang\\t [-]')\n",
    "print('3. Kali\\t   [*]')\n",
    "print('4. Bagi\\t   [/]')\n",
    "print('='*25)\n",
    "\n"
   ]
  },
  {
   "cell_type": "code",
   "execution_count": null,
   "id": "c9e87a30",
   "metadata": {
    "scrolled": true
   },
   "outputs": [],
   "source": [
    "print('=== Program Nilai===')\n",
    "nilai=int(input('Masukan Nilai : '))\n",
    "if nilai >=80:\n",
    "    print('Selamat Anda Lulus!')\n",
    "print('Tetap Semangat, Tingaktkan Nilai Kedepannya')  \n",
    "print('='*21)"
   ]
  },
  {
   "cell_type": "code",
   "execution_count": 17,
   "id": "588c0f71",
   "metadata": {},
   "outputs": [
    {
     "name": "stdout",
     "output_type": "stream",
     "text": [
      "==== Login ====\n",
      "Masukan paswoord :False\n",
      "Password salah, coba lagi!\n",
      "Terima kasih telah mempercayakan pada aplikasi kami\n"
     ]
    }
   ],
   "source": [
    "print('==== Login ====')\n",
    "password = input('Masukan paswoord :')\n",
    "if password == 'Dasar Pemrograman' :\n",
    "   print('Selamat datang di aplikasi!')\n",
    "else:\n",
    "   print('Password salah, coba lagi!')\n",
    "print('Terima kasih telah mempercayakan pada aplikasi kami')"
   ]
  },
  {
   "cell_type": "code",
   "execution_count": 31,
   "id": "b830b5b6",
   "metadata": {},
   "outputs": [
    {
     "name": "stdout",
     "output_type": "stream",
     "text": [
      "Masukan bilangan : 10\n",
      "10 termasuk bilangan genap\n"
     ]
    }
   ],
   "source": [
    "bilangan=int(input('Masukan bilangan : '))\n",
    "if bilangan >0:\n",
    "    if(bilangan % 2) == 0:\n",
    "        print(bilangan,'termasuk bilangan genap')\n",
    "    else:\n",
    "        print(bilangan,'termasuk bilangan ganjil')\n",
    "else:\n",
    "    print(bilangan,'bukan bilangan positif')"
   ]
  },
  {
   "cell_type": "code",
   "execution_count": 45,
   "id": "c67b285c",
   "metadata": {},
   "outputs": [
    {
     "name": "stdout",
     "output_type": "stream",
     "text": [
      "Masukan nilai akhir :12\n",
      "Grade anda : F\n"
     ]
    }
   ],
   "source": [
    "nilai= int(input('Masukan nilai akhir :'))\n",
    "if nilai >= 90:\n",
    "    grade = 'A'\n",
    "elif nilai >=80:\n",
    "     grade = 'B'\n",
    "elif nilai >=70:\n",
    "     grade = 'C'\n",
    "else:\n",
    "    grade = 'F'\n",
    "print('Grade anda :',grade)\n",
    "    "
   ]
  },
  {
   "cell_type": "code",
   "execution_count": 82,
   "id": "0fcaf0c3",
   "metadata": {},
   "outputs": [
    {
     "name": "stdout",
     "output_type": "stream",
     "text": [
      "Nama Siskaee\n",
      "Gender anda Perempuan\n",
      "Hai sis kamu Siskaee ya\n"
     ]
    }
   ],
   "source": [
    "nama = input('Nama ')\n",
    "gender = input('Gender anda ')\n",
    "if gender == 'Laki laki':\n",
    "    Jawab = 'Hai Bro'\n",
    "elif gender =='Perempuan':\n",
    "    Jawab = 'Hai sis'\n",
    "else:\n",
    "    Jawab = 'Masukan gender anda'\n",
    "print(Jawab,'kamu',nama,'ya')"
   ]
  },
  {
   "cell_type": "code",
   "execution_count": 83,
   "id": "680903cb",
   "metadata": {},
   "outputs": [
    {
     "name": "stdout",
     "output_type": "stream",
     "text": [
      "Tahun Lahir Anda :2002\n",
      "Generasi Z\n"
     ]
    }
   ],
   "source": [
    "tahun = int(input('Tahun Lahir Anda :'))\n",
    "if tahun >= 1944 and tahun <=1950:\n",
    "    generasi = 'Boomer'\n",
    "elif tahun >= 1951 and tahun<= 1970:\n",
    "    generasi = 'X'\n",
    "elif tahun >= 1971 and tahun <= 1994:\n",
    "    generasi = 'Y'\n",
    "elif tahun >= 1995:\n",
    "    generasi = 'Z'\n",
    "else:\n",
    "    generasi = 'Tidak ada generasi'\n",
    "print('Generasi', generasi)"
   ]
  },
  {
   "cell_type": "code",
   "execution_count": 100,
   "id": "c2ad7b47",
   "metadata": {},
   "outputs": [
    {
     "name": "stdout",
     "output_type": "stream",
     "text": [
      "Menentukan Kelulusan\n"
     ]
    },
    {
     "ename": "KeyboardInterrupt",
     "evalue": "Interrupted by user",
     "output_type": "error",
     "traceback": [
      "\u001b[1;31m---------------------------------------------------------------------------\u001b[0m",
      "\u001b[1;31mKeyboardInterrupt\u001b[0m                         Traceback (most recent call last)",
      "Input \u001b[1;32mIn [100]\u001b[0m, in \u001b[0;36m<cell line: 2>\u001b[1;34m()\u001b[0m\n\u001b[0;32m      1\u001b[0m \u001b[38;5;28mprint\u001b[39m(\u001b[38;5;124m'\u001b[39m\u001b[38;5;124mMenentukan Kelulusan\u001b[39m\u001b[38;5;124m'\u001b[39m)\n\u001b[1;32m----> 2\u001b[0m nama \u001b[38;5;241m=\u001b[39m \u001b[38;5;28;43minput\u001b[39;49m\u001b[43m(\u001b[49m\u001b[38;5;124;43m'\u001b[39;49m\u001b[38;5;124;43mNama Mahasiswa \u001b[39;49m\u001b[38;5;124;43m'\u001b[39;49m\u001b[43m)\u001b[49m\n\u001b[0;32m      3\u001b[0m nilai_uts\u001b[38;5;241m=\u001b[39m \u001b[38;5;28mint\u001b[39m(\u001b[38;5;28minput\u001b[39m(\u001b[38;5;124m'\u001b[39m\u001b[38;5;124mNilai UTS \u001b[39m\u001b[38;5;124m'\u001b[39m))\n\u001b[0;32m      4\u001b[0m nilai_uas\u001b[38;5;241m=\u001b[39m \u001b[38;5;28mint\u001b[39m(\u001b[38;5;28minput\u001b[39m(\u001b[38;5;124m'\u001b[39m\u001b[38;5;124mNilai UAS \u001b[39m\u001b[38;5;124m'\u001b[39m))\n",
      "File \u001b[1;32mC:\\ProgramData\\Anaconda3\\lib\\site-packages\\ipykernel\\kernelbase.py:1075\u001b[0m, in \u001b[0;36mKernel.raw_input\u001b[1;34m(self, prompt)\u001b[0m\n\u001b[0;32m   1071\u001b[0m \u001b[38;5;28;01mif\u001b[39;00m \u001b[38;5;129;01mnot\u001b[39;00m \u001b[38;5;28mself\u001b[39m\u001b[38;5;241m.\u001b[39m_allow_stdin:\n\u001b[0;32m   1072\u001b[0m     \u001b[38;5;28;01mraise\u001b[39;00m StdinNotImplementedError(\n\u001b[0;32m   1073\u001b[0m         \u001b[38;5;124m\"\u001b[39m\u001b[38;5;124mraw_input was called, but this frontend does not support input requests.\u001b[39m\u001b[38;5;124m\"\u001b[39m\n\u001b[0;32m   1074\u001b[0m     )\n\u001b[1;32m-> 1075\u001b[0m \u001b[38;5;28;01mreturn\u001b[39;00m \u001b[38;5;28;43mself\u001b[39;49m\u001b[38;5;241;43m.\u001b[39;49m\u001b[43m_input_request\u001b[49m\u001b[43m(\u001b[49m\n\u001b[0;32m   1076\u001b[0m \u001b[43m    \u001b[49m\u001b[38;5;28;43mstr\u001b[39;49m\u001b[43m(\u001b[49m\u001b[43mprompt\u001b[49m\u001b[43m)\u001b[49m\u001b[43m,\u001b[49m\n\u001b[0;32m   1077\u001b[0m \u001b[43m    \u001b[49m\u001b[38;5;28;43mself\u001b[39;49m\u001b[38;5;241;43m.\u001b[39;49m\u001b[43m_parent_ident\u001b[49m\u001b[43m[\u001b[49m\u001b[38;5;124;43m\"\u001b[39;49m\u001b[38;5;124;43mshell\u001b[39;49m\u001b[38;5;124;43m\"\u001b[39;49m\u001b[43m]\u001b[49m\u001b[43m,\u001b[49m\n\u001b[0;32m   1078\u001b[0m \u001b[43m    \u001b[49m\u001b[38;5;28;43mself\u001b[39;49m\u001b[38;5;241;43m.\u001b[39;49m\u001b[43mget_parent\u001b[49m\u001b[43m(\u001b[49m\u001b[38;5;124;43m\"\u001b[39;49m\u001b[38;5;124;43mshell\u001b[39;49m\u001b[38;5;124;43m\"\u001b[39;49m\u001b[43m)\u001b[49m\u001b[43m,\u001b[49m\n\u001b[0;32m   1079\u001b[0m \u001b[43m    \u001b[49m\u001b[43mpassword\u001b[49m\u001b[38;5;241;43m=\u001b[39;49m\u001b[38;5;28;43;01mFalse\u001b[39;49;00m\u001b[43m,\u001b[49m\n\u001b[0;32m   1080\u001b[0m \u001b[43m\u001b[49m\u001b[43m)\u001b[49m\n",
      "File \u001b[1;32mC:\\ProgramData\\Anaconda3\\lib\\site-packages\\ipykernel\\kernelbase.py:1120\u001b[0m, in \u001b[0;36mKernel._input_request\u001b[1;34m(self, prompt, ident, parent, password)\u001b[0m\n\u001b[0;32m   1117\u001b[0m             \u001b[38;5;28;01mbreak\u001b[39;00m\n\u001b[0;32m   1118\u001b[0m \u001b[38;5;28;01mexcept\u001b[39;00m \u001b[38;5;167;01mKeyboardInterrupt\u001b[39;00m:\n\u001b[0;32m   1119\u001b[0m     \u001b[38;5;66;03m# re-raise KeyboardInterrupt, to truncate traceback\u001b[39;00m\n\u001b[1;32m-> 1120\u001b[0m     \u001b[38;5;28;01mraise\u001b[39;00m \u001b[38;5;167;01mKeyboardInterrupt\u001b[39;00m(\u001b[38;5;124m\"\u001b[39m\u001b[38;5;124mInterrupted by user\u001b[39m\u001b[38;5;124m\"\u001b[39m) \u001b[38;5;28;01mfrom\u001b[39;00m \u001b[38;5;28mNone\u001b[39m\n\u001b[0;32m   1121\u001b[0m \u001b[38;5;28;01mexcept\u001b[39;00m \u001b[38;5;167;01mException\u001b[39;00m:\n\u001b[0;32m   1122\u001b[0m     \u001b[38;5;28mself\u001b[39m\u001b[38;5;241m.\u001b[39mlog\u001b[38;5;241m.\u001b[39mwarning(\u001b[38;5;124m\"\u001b[39m\u001b[38;5;124mInvalid Message:\u001b[39m\u001b[38;5;124m\"\u001b[39m, exc_info\u001b[38;5;241m=\u001b[39m\u001b[38;5;28;01mTrue\u001b[39;00m)\n",
      "\u001b[1;31mKeyboardInterrupt\u001b[0m: Interrupted by user"
     ]
    }
   ],
   "source": [
    "print('Menentukan Kelulusan')\n",
    "nama = input('Nama Mahasiswa ')\n",
    "nilai_uts= int(input('Nilai UTS '))\n",
    "nilai_uas= int(input('Nilai UAS '))\n",
    "if nilai_uas>=68:\n",
    "    if nilai_uts>=58:\n",
    "        print('Selamat', nama, 'Anda Lulus')\n",
    "    else:\n",
    "        print(nama,'Lulus, lebih giat lagi ya')\n",
    "else:\n",
    "    print(nama,'Anda belum lulus')"
   ]
  },
  {
   "cell_type": "code",
   "execution_count": 99,
   "id": "8c2918ec",
   "metadata": {},
   "outputs": [
    {
     "name": "stdout",
     "output_type": "stream",
     "text": [
      "=== Masukan Username Dan Password Anda ===\n",
      "Username : sekut\n",
      "Password : sskutcuy\n",
      "Maaf username tidak dapat ditemukan\n",
      "=== Slot2000 ===\n"
     ]
    }
   ],
   "source": [
    "print('=== Masukan Username Dan Password Anda ===')\n",
    "username=input('Username : ')\n",
    "password=input('Password : ')\n",
    "if username == 'VickyNPU':\n",
    "    if password== 'NPU123':\n",
    "        print('Anda Berhasil Login')\n",
    "    else:\n",
    "        print('Maaf password anda salah, silahkan coba ulang')\n",
    "else:\n",
    "    print('Maaf username tidak dapat ditemukan')\n",
    "print('=== Slot2000 ===')"
   ]
  },
  {
   "cell_type": "code",
   "execution_count": 118,
   "id": "68755457",
   "metadata": {},
   "outputs": [
    {
     "name": "stdout",
     "output_type": "stream",
     "text": [
      "Score : 80\n",
      "Your grade is : B, Very Satisfy\n"
     ]
    }
   ],
   "source": [
    "skor = int(input('Score : '))\n",
    "if skor >= 90 and skor <= 100:\n",
    "    grade = 'A, With Compliments'\n",
    "elif skor >= 80 and skor <= 89:\n",
    "    grade = 'B, Very Satisfy'\n",
    "elif skor >= 70 and skor <= 79:\n",
    "    grade = 'C, Satisfying'\n",
    "elif skor >= 60 and skor <= 69:\n",
    "    grade = 'D, Not Satisfactory'\n",
    "elif skor >= 0 and skor <= 59:\n",
    "    grade = 'E, Not PASS'\n",
    "else:\n",
    "    grade ='Input The Correct Score'\n",
    "print('Your grade is :',grade)"
   ]
  }
 ],
 "metadata": {
  "kernelspec": {
   "display_name": "Python 3 (ipykernel)",
   "language": "python",
   "name": "python3"
  },
  "language_info": {
   "codemirror_mode": {
    "name": "ipython",
    "version": 3
   },
   "file_extension": ".py",
   "mimetype": "text/x-python",
   "name": "python",
   "nbconvert_exporter": "python",
   "pygments_lexer": "ipython3",
   "version": "3.9.12"
  }
 },
 "nbformat": 4,
 "nbformat_minor": 5
}
