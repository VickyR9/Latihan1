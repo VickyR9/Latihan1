{
 "cells": [
  {
   "cell_type": "code",
   "execution_count": 8,
   "id": "88dfe28f",
   "metadata": {},
   "outputs": [
    {
     "data": {
      "text/plain": [
       "array([1., 2., 3., 4.])"
      ]
     },
     "execution_count": 8,
     "metadata": {},
     "output_type": "execute_result"
    }
   ],
   "source": [
    "import numpy as np\n",
    "arr = np.array([2,4,6,8])\n",
    "\n",
    "arr/2"
   ]
  },
  {
   "cell_type": "code",
   "execution_count": 10,
   "id": "d72bc2ec",
   "metadata": {},
   "outputs": [
    {
     "ename": "TypeError",
     "evalue": "unsupported operand type(s) for /: 'list' and 'int'",
     "output_type": "error",
     "traceback": [
      "\u001b[1;31m---------------------------------------------------------------------------\u001b[0m",
      "\u001b[1;31mTypeError\u001b[0m                                 Traceback (most recent call last)",
      "Input \u001b[1;32mIn [10]\u001b[0m, in \u001b[0;36m<cell line: 3>\u001b[1;34m()\u001b[0m\n\u001b[0;32m      1\u001b[0m \u001b[38;5;28mlist\u001b[39m \u001b[38;5;241m=\u001b[39m [\u001b[38;5;241m2\u001b[39m,\u001b[38;5;241m4\u001b[39m,\u001b[38;5;241m6\u001b[39m,\u001b[38;5;241m8\u001b[39m]\n\u001b[1;32m----> 3\u001b[0m \u001b[38;5;28;43mlist\u001b[39;49m\u001b[38;5;241;43m/\u001b[39;49m\u001b[38;5;241;43m2\u001b[39;49m\n",
      "\u001b[1;31mTypeError\u001b[0m: unsupported operand type(s) for /: 'list' and 'int'"
     ]
    }
   ],
   "source": [
    "list = [2,4,6,8]\n",
    "\n",
    "list/2"
   ]
  },
  {
   "cell_type": "code",
   "execution_count": 13,
   "id": "b9ee1dc9",
   "metadata": {},
   "outputs": [
    {
     "data": {
      "text/plain": [
       "array([10, 20, 30, 40])"
      ]
     },
     "execution_count": 13,
     "metadata": {},
     "output_type": "execute_result"
    }
   ],
   "source": [
    "import numpy as np\n",
    "arr = np.array([5,10,15,20])\n",
    "\n",
    "arr*2"
   ]
  },
  {
   "cell_type": "code",
   "execution_count": 15,
   "id": "87812a26",
   "metadata": {},
   "outputs": [
    {
     "name": "stdout",
     "output_type": "stream",
     "text": [
      "['Ford', 'Volvo', 'BMW']\n"
     ]
    }
   ],
   "source": [
    "cars = [\"Ford\", \"Volvo\", \"BMW\"]\n",
    "print(cars)"
   ]
  },
  {
   "cell_type": "code",
   "execution_count": 19,
   "id": "e0987351",
   "metadata": {},
   "outputs": [
    {
     "name": "stdout",
     "output_type": "stream",
     "text": [
      "Ford\n"
     ]
    }
   ],
   "source": [
    "cars = [\"Ford\", \"Volvo\", \"BMW\"]\n",
    "x = cars[0]\n",
    "print(x)"
   ]
  },
  {
   "cell_type": "code",
   "execution_count": 21,
   "id": "ddec41ea",
   "metadata": {},
   "outputs": [
    {
     "name": "stdout",
     "output_type": "stream",
     "text": [
      "['Toyota', 'Volvo', 'BMW']\n"
     ]
    }
   ],
   "source": [
    "cars = [\"Ford\", \"Volvo\", \"BMW\"]\n",
    "\n",
    "cars[0] = \"Toyota\"\n",
    "\n",
    "print(cars)\n"
   ]
  },
  {
   "cell_type": "code",
   "execution_count": 23,
   "id": "6333ec48",
   "metadata": {},
   "outputs": [
    {
     "name": "stdout",
     "output_type": "stream",
     "text": [
      "Ford\n",
      "Volvo\n",
      "BMW\n"
     ]
    }
   ],
   "source": [
    "cars = [\"Ford\", \"Volvo\", \"BMW\"]\n",
    "\n",
    "for x in cars:\n",
    "  print(x)"
   ]
  },
  {
   "cell_type": "code",
   "execution_count": 26,
   "id": "501110c1",
   "metadata": {},
   "outputs": [
    {
     "name": "stdout",
     "output_type": "stream",
     "text": [
      "3\n"
     ]
    }
   ],
   "source": [
    "cars = [\"Ford\", \"Volvo\", \"BMW\"]\n",
    "\n",
    "x = len(cars)\n",
    "print(x)"
   ]
  },
  {
   "cell_type": "code",
   "execution_count": 28,
   "id": "aba42e8a",
   "metadata": {},
   "outputs": [
    {
     "name": "stdout",
     "output_type": "stream",
     "text": [
      "['Ford', 'Volvo', 'BMW', 'Honda']\n"
     ]
    }
   ],
   "source": [
    "cars = [\"Ford\", \"Volvo\", \"BMW\"]\n",
    "\n",
    "cars.append(\"Honda\")\n",
    "\n",
    "print(cars)"
   ]
  },
  {
   "cell_type": "code",
   "execution_count": 38,
   "id": "6d0d259e",
   "metadata": {},
   "outputs": [
    {
     "name": "stdout",
     "output_type": "stream",
     "text": [
      "Abdul\n",
      "Riri\n",
      "Neva\n",
      "Dah\n",
      "Caca\n"
     ]
    }
   ],
   "source": [
    "student = ['Paska,','Riri','Neva','Najla','Caca']\n",
    "student [3] = 'Dah'\n",
    "student [0] = 'Abdul'\n",
    "for x in student:\n",
    "    print(x)"
   ]
  },
  {
   "cell_type": "code",
   "execution_count": 39,
   "id": "be96f86b",
   "metadata": {},
   "outputs": [
    {
     "name": "stdout",
     "output_type": "stream",
     "text": [
      "Abdul\n",
      "Riri\n",
      "Neva\n",
      "Dah\n",
      "Caca\n",
      "Vicky\n"
     ]
    }
   ],
   "source": [
    "student = ['Paska,','Riri','Neva','Najla','Caca']\n",
    "student [3] = 'Dah'\n",
    "student [0] = 'Abdul'\n",
    "student.append('Vicky')\n",
    "for x in student:\n",
    "    print(x)"
   ]
  },
  {
   "cell_type": "code",
   "execution_count": 50,
   "id": "622d1ec9",
   "metadata": {},
   "outputs": [
    {
     "name": "stdout",
     "output_type": "stream",
     "text": [
      "Abdul\n",
      "Neva\n",
      "Dah\n",
      "Caca\n"
     ]
    }
   ],
   "source": [
    "student = ['Paska,','Riri','Neva','Najla','Caca']\n",
    "student [3] = 'Dah'\n",
    "student [0] = 'Abdul'\n",
    "student.append('Vicky')\n",
    "student.pop(1)\n",
    "student.pop(4)\n",
    "for x in student:\n",
    "    print(x)"
   ]
  },
  {
   "cell_type": "code",
   "execution_count": 47,
   "id": "c579b6ab",
   "metadata": {},
   "outputs": [
    {
     "name": "stdout",
     "output_type": "stream",
     "text": [
      "['Vicky', 'Fadhlan', 'Dzikri', 'Fajril', 'Aripin']\n"
     ]
    }
   ],
   "source": [
    "student = ['Vicky','Fadhlan','Dzikri','Fajril','Aripin']\n",
    "x = student.copy()\n",
    "\n",
    "print(x)\n"
   ]
  },
  {
   "cell_type": "code",
   "execution_count": 51,
   "id": "d9f34404",
   "metadata": {},
   "outputs": [
    {
     "name": "stdout",
     "output_type": "stream",
     "text": [
      "1\n"
     ]
    }
   ],
   "source": [
    "student = ['Vicky','Fadhlan','Dzikri','Fajril','Aripin']\n",
    "x = student.count(\"Vicky\")\n",
    "\n",
    "print(x)"
   ]
  },
  {
   "cell_type": "code",
   "execution_count": 53,
   "id": "03f543b8",
   "metadata": {},
   "outputs": [
    {
     "name": "stdout",
     "output_type": "stream",
     "text": [
      "['Vicky', 'Fadhlan', 'Dzikri', 'Neva', 'Najla', 'Riri']\n"
     ]
    }
   ],
   "source": [
    "student_male = ['Vicky','Fadhlan','Dzikri']\n",
    "student_female = ['Neva','Najla','Riri']\n",
    "\n",
    "student_male.extend(student_female)\n",
    "\n",
    "print(student_male)"
   ]
  },
  {
   "cell_type": "code",
   "execution_count": 57,
   "id": "a91179c0",
   "metadata": {},
   "outputs": [
    {
     "name": "stdout",
     "output_type": "stream",
     "text": [
      "List in python : [1, 2, 3, 4]\n",
      "Numpy Array in python : [1 2 3 4]\n"
     ]
    }
   ],
   "source": [
    "import numpy as np\n",
    "#Creating list\n",
    "list = [1,2,3,4]\n",
    "\n",
    "#Creating numpy array\n",
    "sample_array = np.array(list)\n",
    "\n",
    "print(\"List in python :\",list)\n",
    "\n",
    "print('Numpy Array in python :',sample_array)"
   ]
  },
  {
   "cell_type": "code",
   "execution_count": 58,
   "id": "a47d7835",
   "metadata": {},
   "outputs": [
    {
     "name": "stdout",
     "output_type": "stream",
     "text": [
      "Numpy multi dimensional array in python\n",
      "  [[ 1  2  3]\n",
      " [ 5  6  7]\n",
      " [ 9 10 11]]\n"
     ]
    }
   ],
   "source": [
    "#Creating list\n",
    "list_1 = [1,2,3]\n",
    "list_2 = [5,6,7]\n",
    "list_3 = [9,10,11]\n",
    "\n",
    "#Creating numpy array\n",
    "sample_array = np.array([list_1,\n",
    "                        list_2,\n",
    "                        list_3])\n",
    "print('Numpy multi dimensional array in python\\n ',sample_array)"
   ]
  }
 ],
 "metadata": {
  "kernelspec": {
   "display_name": "Python 3 (ipykernel)",
   "language": "python",
   "name": "python3"
  },
  "language_info": {
   "codemirror_mode": {
    "name": "ipython",
    "version": 3
   },
   "file_extension": ".py",
   "mimetype": "text/x-python",
   "name": "python",
   "nbconvert_exporter": "python",
   "pygments_lexer": "ipython3",
   "version": "3.9.12"
  }
 },
 "nbformat": 4,
 "nbformat_minor": 5
}
